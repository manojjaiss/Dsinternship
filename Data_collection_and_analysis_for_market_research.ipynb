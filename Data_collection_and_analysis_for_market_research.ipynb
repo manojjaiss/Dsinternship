{
  "nbformat": 4,
  "nbformat_minor": 0,
  "metadata": {
    "colab": {
      "provenance": []
    },
    "kernelspec": {
      "name": "python3",
      "display_name": "Python 3"
    },
    "language_info": {
      "name": "python"
    }
  },
  "cells": [
    {
      "source": [
        "import pandas as pd\n",
        "import numpy as np\n",
        "\n",
        "# Load the responses.csv dataset\n",
        "df_responses = pd.read_csv('CompleteResponses.csv')\n",
        "\n",
        "# Display the columns of the DataFrame to identify the correct column names\n",
        "print(df_responses.columns)\n",
        "\n",
        "# Perform consumer preference analysis (example)\n",
        "# Replace 'Product' and 'Preference' with the actual column names from the output above\n",
        "preference_by_product = df_responses.groupby('brand')['brand'].mean() # Assuming 'brand' is the actual column name for 'Product'\n",
        "print(\"Average Preference Scores:\\n\", preference_by_product)\n",
        "\n",
        "# Analyze real-world usage data (example)\n",
        "# Replace 'Product' and 'UsageCount' with the actual column names\n",
        "usage_by_product = df_responses.groupby('brand')['elevel'].sum()  # Assuming 'brand' and 'elevel' are the actual column names for 'Product' and 'UsageCount'\n",
        "print(\"\\nTotal Usage Counts:\\n\", usage_by_product)\n",
        "\n",
        "# Evaluate taste enhancement impact (example)\n",
        "# Select relevant columns for taste enhancement analysis\n",
        "# Replace with actual column names\n",
        "taste_data = df_responses[['brand', 'car', 'zipcode', 'salary', 'age', 'elevel', 'credit']]  # Assuming these are the actual column names\n",
        "\n",
        "# Calculate sodium reduction and taste improvement\n",
        "# Adjust calculations based on your actual column names\n",
        "taste_data['Sodium_Diff'] = taste_data['car'] - taste_data['zipcode']\n",
        "taste_data['Taste_Diff'] = taste_data['salary'] - taste_data['age']\n",
        "\n",
        "# Correlation analysis of taste and sodium on sodium restriction\n",
        "# Select only numerical columns for correlation analysis\n",
        "numerical_data = taste_data.select_dtypes(include=['number'])\n",
        "\n",
        "print(\"\\nCorrelation analysis of taste and sodium on sodium restriction:\\n\", numerical_data.corr())"
      ],
      "cell_type": "code",
      "metadata": {
        "colab": {
          "base_uri": "https://localhost:8080/"
        },
        "id": "_KNNXC3hbgYf",
        "outputId": "05e8bb92-229a-414f-b03e-19fa8c082de2"
      },
      "execution_count": 5,
      "outputs": [
        {
          "output_type": "stream",
          "name": "stdout",
          "text": [
            "Index(['salary', 'age', 'elevel', 'car', 'zipcode', 'credit', 'brand'], dtype='object')\n",
            "Average Preference Scores:\n",
            " brand\n",
            "0    0.0\n",
            "1    1.0\n",
            "Name: brand, dtype: float64\n",
            "\n",
            "Total Usage Counts:\n",
            " brand\n",
            "0     7457\n",
            "1    12170\n",
            "Name: elevel, dtype: int64\n",
            "\n",
            "Correlation analysis of taste and sodium on sodium restriction:\n",
            "                 brand       car   zipcode    salary       age    elevel  \\\n",
            "brand        1.000000  0.005923  0.004665  0.206490  0.013713 -0.004829   \n",
            "car          0.005923  1.000000  0.001527 -0.006091  0.010246 -0.000047   \n",
            "zipcode      0.004665  0.001527  1.000000 -0.005471  0.003681  0.018095   \n",
            "salary       0.206490 -0.006091 -0.005471  1.000000  0.007979 -0.006620   \n",
            "age          0.013713  0.010246  0.003681  0.007979  1.000000 -0.005830   \n",
            "elevel      -0.004829 -0.000047  0.018095 -0.006620 -0.005830  1.000000   \n",
            "credit       0.005688 -0.010329  0.004962 -0.025127 -0.004401  0.002721   \n",
            "Sodium_Diff  0.003504  0.912708 -0.407218 -0.003327  0.007854 -0.007437   \n",
            "Taste_Diff   0.206484 -0.006095 -0.005473  1.000000  0.007512 -0.006618   \n",
            "\n",
            "               credit  Sodium_Diff  Taste_Diff  \n",
            "brand        0.005688     0.003504    0.206484  \n",
            "car         -0.010329     0.912708   -0.006095  \n",
            "zipcode      0.004962    -0.407218   -0.005473  \n",
            "salary      -0.025127    -0.003327    1.000000  \n",
            "age         -0.004401     0.007854    0.007512  \n",
            "elevel       0.002721    -0.007437   -0.006618  \n",
            "credit       1.000000    -0.011461   -0.025125  \n",
            "Sodium_Diff -0.011461     1.000000   -0.003331  \n",
            "Taste_Diff  -0.025125    -0.003331    1.000000  \n"
          ]
        },
        {
          "output_type": "stream",
          "name": "stderr",
          "text": [
            "<ipython-input-5-f1457a146580>:27: SettingWithCopyWarning: \n",
            "A value is trying to be set on a copy of a slice from a DataFrame.\n",
            "Try using .loc[row_indexer,col_indexer] = value instead\n",
            "\n",
            "See the caveats in the documentation: https://pandas.pydata.org/pandas-docs/stable/user_guide/indexing.html#returning-a-view-versus-a-copy\n",
            "  taste_data['Sodium_Diff'] = taste_data['car'] - taste_data['zipcode']\n",
            "<ipython-input-5-f1457a146580>:28: SettingWithCopyWarning: \n",
            "A value is trying to be set on a copy of a slice from a DataFrame.\n",
            "Try using .loc[row_indexer,col_indexer] = value instead\n",
            "\n",
            "See the caveats in the documentation: https://pandas.pydata.org/pandas-docs/stable/user_guide/indexing.html#returning-a-view-versus-a-copy\n",
            "  taste_data['Taste_Diff'] = taste_data['salary'] - taste_data['age']\n"
          ]
        }
      ]
    }
  ]
}