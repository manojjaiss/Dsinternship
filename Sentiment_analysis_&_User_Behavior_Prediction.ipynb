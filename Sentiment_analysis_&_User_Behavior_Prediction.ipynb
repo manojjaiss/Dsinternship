{
  "nbformat": 4,
  "nbformat_minor": 0,
  "metadata": {
    "colab": {
      "provenance": []
    },
    "kernelspec": {
      "name": "python3",
      "display_name": "Python 3"
    },
    "language_info": {
      "name": "python"
    }
  },
  "cells": [
    {
      "source": [
        "# Install necessary libraries (if not already installed)\n",
        "!pip install transformers nltk pandas\n",
        "\n",
        "# Import libraries\n",
        "import nltk\n",
        "import pandas as pd\n",
        "from transformers import pipeline\n",
        "\n",
        "# Download NLTK resources (if not already downloaded)\n",
        "nltk.download('vader_lexicon')\n",
        "nltk.download('punkt')\n",
        "\n",
        "# Load data from CSV file\n",
        "df = pd.read_csv('/content/sentiment-analysis.csv')\n",
        "\n",
        "# Assuming your CSV has a column named 'text' containing the feedback\n",
        "# If the column name is different, replace 'text' with the correct name\n",
        "# Get the name of the first column (assuming it contains the feedback)\n",
        "feedback_column_name = df.columns[0]\n",
        "\n",
        "# Sentiment analysis using pre-trained model\n",
        "classifier = pipeline(\"sentiment-analysis\")\n",
        "\n",
        "def get_sentiment(text):\n",
        "    # Check if the input is a string\n",
        "    if isinstance(text, str):\n",
        "        result = classifier(text)[0]\n",
        "        return result['label'], result['score']\n",
        "    else:\n",
        "        # Handle non-string inputs (e.g., return default values)\n",
        "        return 'UNKNOWN', 0.0\n",
        "\n",
        "# Use the identified feedback column name and apply get_sentiment\n",
        "df['sentiment_label'], df['sentiment_score'] = zip(*df[feedback_column_name].apply(get_sentiment))\n",
        "\n",
        "# Display the sentiment analysis results\n",
        "print(df)\n",
        "\n",
        "# Example of pattern detection and prediction (simple example, can be expanded)\n",
        "\n",
        "# Group by sentiment label and count occurrences\n",
        "sentiment_counts = df.groupby('sentiment_label')[feedback_column_name].count().reset_index()\n",
        "print(f\"\\nSentiment counts:\\n{sentiment_counts}\")\n",
        "\n",
        "# Example prediction based on sentiment (simplified)\n",
        "\n",
        "if sentiment_counts[sentiment_counts['sentiment_label'] == 'NEGATIVE'][feedback_column_name].iloc[0] > 2:\n",
        "  print(\"\\nPrediction: Potential improvements needed in the user interface and navigation.\")\n",
        "elif sentiment_counts[sentiment_counts['sentiment_label'] == 'POSITIVE'][feedback_column_name].iloc[0] > 3:\n",
        "  print(\"\\nPrediction: Users are satisfied, consider adding more advanced features.\")\n",
        "\n"
      ],
      "cell_type": "code",
      "metadata": {
        "colab": {
          "base_uri": "https://localhost:8080/"
        },
        "id": "qMDDr5bDistA",
        "outputId": "9c744eda-9d6f-47fc-c9dd-80ffb5b8f0ad"
      },
      "execution_count": 4,
      "outputs": [
        {
          "output_type": "stream",
          "name": "stdout",
          "text": [
            "Requirement already satisfied: transformers in /usr/local/lib/python3.11/dist-packages (4.51.3)\n",
            "Requirement already satisfied: nltk in /usr/local/lib/python3.11/dist-packages (3.9.1)\n",
            "Requirement already satisfied: pandas in /usr/local/lib/python3.11/dist-packages (2.2.2)\n",
            "Requirement already satisfied: filelock in /usr/local/lib/python3.11/dist-packages (from transformers) (3.18.0)\n",
            "Requirement already satisfied: huggingface-hub<1.0,>=0.30.0 in /usr/local/lib/python3.11/dist-packages (from transformers) (0.30.2)\n",
            "Requirement already satisfied: numpy>=1.17 in /usr/local/lib/python3.11/dist-packages (from transformers) (2.0.2)\n",
            "Requirement already satisfied: packaging>=20.0 in /usr/local/lib/python3.11/dist-packages (from transformers) (24.2)\n",
            "Requirement already satisfied: pyyaml>=5.1 in /usr/local/lib/python3.11/dist-packages (from transformers) (6.0.2)\n",
            "Requirement already satisfied: regex!=2019.12.17 in /usr/local/lib/python3.11/dist-packages (from transformers) (2024.11.6)\n",
            "Requirement already satisfied: requests in /usr/local/lib/python3.11/dist-packages (from transformers) (2.32.3)\n",
            "Requirement already satisfied: tokenizers<0.22,>=0.21 in /usr/local/lib/python3.11/dist-packages (from transformers) (0.21.1)\n",
            "Requirement already satisfied: safetensors>=0.4.3 in /usr/local/lib/python3.11/dist-packages (from transformers) (0.5.3)\n",
            "Requirement already satisfied: tqdm>=4.27 in /usr/local/lib/python3.11/dist-packages (from transformers) (4.67.1)\n",
            "Requirement already satisfied: click in /usr/local/lib/python3.11/dist-packages (from nltk) (8.1.8)\n",
            "Requirement already satisfied: joblib in /usr/local/lib/python3.11/dist-packages (from nltk) (1.4.2)\n",
            "Requirement already satisfied: python-dateutil>=2.8.2 in /usr/local/lib/python3.11/dist-packages (from pandas) (2.9.0.post0)\n",
            "Requirement already satisfied: pytz>=2020.1 in /usr/local/lib/python3.11/dist-packages (from pandas) (2025.2)\n",
            "Requirement already satisfied: tzdata>=2022.7 in /usr/local/lib/python3.11/dist-packages (from pandas) (2025.2)\n",
            "Requirement already satisfied: fsspec>=2023.5.0 in /usr/local/lib/python3.11/dist-packages (from huggingface-hub<1.0,>=0.30.0->transformers) (2025.3.2)\n",
            "Requirement already satisfied: typing-extensions>=3.7.4.3 in /usr/local/lib/python3.11/dist-packages (from huggingface-hub<1.0,>=0.30.0->transformers) (4.13.2)\n",
            "Requirement already satisfied: six>=1.5 in /usr/local/lib/python3.11/dist-packages (from python-dateutil>=2.8.2->pandas) (1.17.0)\n",
            "Requirement already satisfied: charset-normalizer<4,>=2 in /usr/local/lib/python3.11/dist-packages (from requests->transformers) (3.4.1)\n",
            "Requirement already satisfied: idna<4,>=2.5 in /usr/local/lib/python3.11/dist-packages (from requests->transformers) (3.10)\n",
            "Requirement already satisfied: urllib3<3,>=1.21.1 in /usr/local/lib/python3.11/dist-packages (from requests->transformers) (2.4.0)\n",
            "Requirement already satisfied: certifi>=2017.4.17 in /usr/local/lib/python3.11/dist-packages (from requests->transformers) (2025.4.26)\n"
          ]
        },
        {
          "output_type": "stream",
          "name": "stderr",
          "text": [
            "[nltk_data] Downloading package vader_lexicon to /root/nltk_data...\n",
            "[nltk_data]   Package vader_lexicon is already up-to-date!\n",
            "[nltk_data] Downloading package punkt to /root/nltk_data...\n",
            "[nltk_data]   Package punkt is already up-to-date!\n",
            "No model was supplied, defaulted to distilbert/distilbert-base-uncased-finetuned-sst-2-english and revision 714eb0f (https://huggingface.co/distilbert/distilbert-base-uncased-finetuned-sst-2-english).\n",
            "Using a pipeline without specifying a model name and revision in production is not recommended.\n",
            "Device set to use cpu\n"
          ]
        },
        {
          "output_type": "stream",
          "name": "stdout",
          "text": [
            "   Text, Sentiment, Source, Date/Time, User ID, Location, Confidence Score  \\\n",
            "0   \"I love this product!\", Positive, Twitter, 202...                        \n",
            "1   \"The service was terrible.\", Negative, Yelp Re...                        \n",
            "2   \"This movie is amazing!\", Positive, IMDb, 2023...                        \n",
            "3   \"I'm so disappointed with their customer suppo...                        \n",
            "4   \"Just had the best meal of my life!\", Positive...                        \n",
            "..                                                ...                        \n",
            "93  \"I can't stop listening to this song. It's my ...                        \n",
            "94  \"Their website is so confusing and poorly desi...                        \n",
            "95  \"I had an incredible experience at the theme p...                        \n",
            "96                                                NaN                        \n",
            "97                                                NaN                        \n",
            "\n",
            "   sentiment_label  sentiment_score  \n",
            "0         POSITIVE         0.999734  \n",
            "1         NEGATIVE         0.999744  \n",
            "2         POSITIVE         0.999707  \n",
            "3         NEGATIVE         0.999806  \n",
            "4         POSITIVE         0.999754  \n",
            "..             ...              ...  \n",
            "93        POSITIVE         0.999666  \n",
            "94        NEGATIVE         0.999818  \n",
            "95        POSITIVE         0.999781  \n",
            "96         UNKNOWN         0.000000  \n",
            "97         UNKNOWN         0.000000  \n",
            "\n",
            "[98 rows x 3 columns]\n",
            "\n",
            "Sentiment counts:\n",
            "  sentiment_label  \\\n",
            "0        NEGATIVE   \n",
            "1        POSITIVE   \n",
            "2         UNKNOWN   \n",
            "\n",
            "   Text, Sentiment, Source, Date/Time, User ID, Location, Confidence Score  \n",
            "0                                                 43                        \n",
            "1                                                 53                        \n",
            "2                                                  0                        \n",
            "\n",
            "Prediction: Potential improvements needed in the user interface and navigation.\n"
          ]
        }
      ]
    }
  ]
}